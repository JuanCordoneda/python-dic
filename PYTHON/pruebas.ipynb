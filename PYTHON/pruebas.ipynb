{
 "cells": [
  {
   "cell_type": "code",
   "execution_count": null,
   "metadata": {},
   "outputs": [
    {
     "ename": "",
     "evalue": "",
     "output_type": "error",
     "traceback": [
      "\u001b[1;31mNo se puede iniciar Jupyter. Error al intentar buscar Jupyter: Las celdas en ejecución requieren notebook y jupyter paquete.\n",
      "\u001b[1;31mRun the following command to install 'jupyter y notebook' into the Python environment. \n",
      "\u001b[1;31mCommand: 'python -m pip install jupyter notebook -U\n",
      "\u001b[1;31mor\n",
      "\u001b[1;31mconda install jupyter notebook -U'\n",
      "\u001b[1;31mHaga clic <a href='https://aka.ms/installJupyterForVSCode'>aquí</a> para obtener más información."
     ]
    }
   ],
   "source": [
    "import requests\n",
    "\n",
    "def get_categories():\n",
    "    r = requests.get('https://api.escuelajs.co/api/v1/categories') #busca la request\n",
    "    print(r.status_code) #estado\n",
    "    print(r.text)  #muestra todo el texto\n",
    "    print(type(r.text)) # muestra el formato\n",
    "    categories = r.json() #lo convierte en un json\n",
    "    for category in categories:\n",
    "        print(category['name'])"
   ]
  },
  {
   "cell_type": "code",
   "execution_count": 2,
   "metadata": {},
   "outputs": [
    {
     "ename": "ModuleNotFoundError",
     "evalue": "No module named 'matplotlib'",
     "output_type": "error",
     "traceback": [
      "\u001b[1;31m---------------------------------------------------------------------------\u001b[0m",
      "\u001b[1;31mModuleNotFoundError\u001b[0m                       Traceback (most recent call last)",
      "Cell \u001b[1;32mIn[2], line 1\u001b[0m\n\u001b[1;32m----> 1\u001b[0m \u001b[39mimport\u001b[39;00m \u001b[39mmatplotlib\u001b[39;00m\u001b[39m.\u001b[39;00m\u001b[39mpyplot\u001b[39;00m \u001b[39mas\u001b[39;00m \u001b[39mplt\u001b[39;00m\n\u001b[0;32m      3\u001b[0m \u001b[39mdef\u001b[39;00m \u001b[39mgenerate_bar_chart\u001b[39m(labels, values):\n\u001b[0;32m      4\u001b[0m   fig, ax \u001b[39m=\u001b[39m plt\u001b[39m.\u001b[39msubplots()\n",
      "\u001b[1;31mModuleNotFoundError\u001b[0m: No module named 'matplotlib'"
     ]
    }
   ],
   "source": [
    "import matplotlib.pyplot as plt\n",
    "\n",
    "def generate_bar_chart(labels, values):\n",
    "  fig, ax = plt.subplots()\n",
    "  ax.bar(labels, values)\n",
    "  plt.show()\n",
    "\n",
    "def generate_pie_chart(labels, values):\n",
    "  fig, ax = plt.subplots()\n",
    "  ax.pie(values, labels=labels)\n",
    "  ax.axis('equal')\n",
    "  plt.show()\n",
    "\n",
    "if __name__ == '__main__':\n",
    "  labels = ['a', 'b', 'c']\n",
    "  values = [10, 40, 800]\n",
    "  # generate_bar_chart(labels, values)\n",
    "  generate_pie_chart(labels, values)"
   ]
  }
 ],
 "metadata": {
  "kernelspec": {
   "display_name": "Python 3",
   "language": "python",
   "name": "python3"
  },
  "language_info": {
   "codemirror_mode": {
    "name": "ipython",
    "version": 3
   },
   "file_extension": ".py",
   "mimetype": "text/x-python",
   "name": "python",
   "nbconvert_exporter": "python",
   "pygments_lexer": "ipython3",
   "version": "3.11.1"
  },
  "orig_nbformat": 4
 },
 "nbformat": 4,
 "nbformat_minor": 2
}
