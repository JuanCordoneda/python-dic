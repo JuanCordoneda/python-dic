{
 "cells": [
  {
   "cell_type": "code",
   "execution_count": 11,
   "metadata": {},
   "outputs": [
    {
     "name": "stdout",
     "output_type": "stream",
     "text": [
      "200\n",
      "[{\"id\":1,\"name\":\"Clothes\",\"image\":\"https://picsum.photos/640/640?r=9266\",\"creationAt\":\"2023-04-13T08:24:05.000Z\",\"updatedAt\":\"2023-04-13T08:24:05.000Z\"},{\"id\":2,\"name\":\"Electronics\",\"image\":\"https://picsum.photos/640/640?r=5945\",\"creationAt\":\"2023-04-13T08:24:05.000Z\",\"updatedAt\":\"2023-04-13T08:24:05.000Z\"},{\"id\":3,\"name\":\"Furniture\",\"image\":\"https://picsum.photos/640/640?r=4632\",\"creationAt\":\"2023-04-13T08:24:05.000Z\",\"updatedAt\":\"2023-04-13T08:24:05.000Z\"},{\"id\":4,\"name\":\"Shoes\",\"image\":\"https://picsum.photos/640/640?r=5331\",\"creationAt\":\"2023-04-13T08:24:05.000Z\",\"updatedAt\":\"2023-04-13T08:24:05.000Z\"},{\"id\":5,\"name\":\"Others\",\"image\":\"https://picsum.photos/640/640?r=6034\",\"creationAt\":\"2023-04-13T08:24:05.000Z\",\"updatedAt\":\"2023-04-13T08:24:05.000Z\"},{\"id\":6,\"name\":\"New Category\",\"image\":\"https://placeimg.com/640/480/any\",\"creationAt\":\"2023-04-13T14:03:19.000Z\",\"updatedAt\":\"2023-04-13T14:03:19.000Z\"},{\"id\":7,\"name\":\"New Category\",\"image\":\"https://placeimg.com/640/480/any\",\"creationAt\":\"2023-04-13T14:11:38.000Z\",\"updatedAt\":\"2023-04-13T14:11:38.000Z\"}]\n",
      "<class 'str'>\n",
      "{'id': 1, 'name': 'Clothes', 'image': 'https://picsum.photos/640/640?r=9266', 'creationAt': '2023-04-13T08:24:05.000Z', 'updatedAt': '2023-04-13T08:24:05.000Z'}\n",
      "{'id': 2, 'name': 'Electronics', 'image': 'https://picsum.photos/640/640?r=5945', 'creationAt': '2023-04-13T08:24:05.000Z', 'updatedAt': '2023-04-13T08:24:05.000Z'}\n",
      "{'id': 3, 'name': 'Furniture', 'image': 'https://picsum.photos/640/640?r=4632', 'creationAt': '2023-04-13T08:24:05.000Z', 'updatedAt': '2023-04-13T08:24:05.000Z'}\n",
      "{'id': 4, 'name': 'Shoes', 'image': 'https://picsum.photos/640/640?r=5331', 'creationAt': '2023-04-13T08:24:05.000Z', 'updatedAt': '2023-04-13T08:24:05.000Z'}\n",
      "{'id': 5, 'name': 'Others', 'image': 'https://picsum.photos/640/640?r=6034', 'creationAt': '2023-04-13T08:24:05.000Z', 'updatedAt': '2023-04-13T08:24:05.000Z'}\n",
      "{'id': 6, 'name': 'New Category', 'image': 'https://placeimg.com/640/480/any', 'creationAt': '2023-04-13T14:03:19.000Z', 'updatedAt': '2023-04-13T14:03:19.000Z'}\n",
      "{'id': 7, 'name': 'New Category', 'image': 'https://placeimg.com/640/480/any', 'creationAt': '2023-04-13T14:11:38.000Z', 'updatedAt': '2023-04-13T14:11:38.000Z'}\n"
     ]
    }
   ],
   "source": [
    "import requests\n",
    "\n",
    "def get_categories():\n",
    "    r = requests.get('https://api.escuelajs.co/api/v1/categories') #busca la request\n",
    "    print(r.status_code) #estado\n",
    "    print(r.text)  #muestra todo el texto\n",
    "    print(type(r.text)) # muestra el formato\n",
    "    categories = r.json() #lo convierte en un json\n",
    "    for category in categories:\n",
    "        print(category)\n",
    "\n",
    "get_categories()"
   ]
  }
 ],
 "metadata": {
  "kernelspec": {
   "display_name": "Python 3",
   "language": "python",
   "name": "python3"
  },
  "language_info": {
   "codemirror_mode": {
    "name": "ipython",
    "version": 3
   },
   "file_extension": ".py",
   "mimetype": "text/x-python",
   "name": "python",
   "nbconvert_exporter": "python",
   "pygments_lexer": "ipython3",
   "version": "3.10.11"
  },
  "orig_nbformat": 4
 },
 "nbformat": 4,
 "nbformat_minor": 2
}
